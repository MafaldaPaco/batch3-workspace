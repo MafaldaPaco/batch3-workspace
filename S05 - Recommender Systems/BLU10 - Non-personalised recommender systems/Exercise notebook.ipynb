{
 "cells": [
  {
   "cell_type": "markdown",
   "metadata": {},
   "source": [
    "# BLU10 - Exercises Notebook"
   ]
  },
  {
   "cell_type": "code",
   "execution_count": 1,
   "metadata": {},
   "outputs": [],
   "source": [
    "# Import all the necessary dependencies\n",
    "import os\n",
    "import numpy as np\n",
    "import scipy as sp\n",
    "import pandas as pd\n",
    "\n",
    "import scipy.sparse\n",
    "\n",
    "from mlxtend.frequent_patterns import apriori\n",
    "import hashlib # for grading purposes"
   ]
  },
  {
   "cell_type": "markdown",
   "metadata": {},
   "source": [
    "## Q0: Create the ratings matrix (ungraded)"
   ]
  },
  {
   "cell_type": "code",
   "execution_count": 2,
   "metadata": {},
   "outputs": [],
   "source": [
    "path = os.path.join('data', 'ml-latest-small', 'ratings.csv')"
   ]
  },
  {
   "cell_type": "code",
   "execution_count": 3,
   "metadata": {
    "deletable": false,
    "nbgrader": {
     "grade": false,
     "grade_id": "cell-17937599a3d5193a",
     "locked": false,
     "schema_version": 3,
     "solution": true,
     "task": false
    }
   },
   "outputs": [],
   "source": [
    "def read_data(path=None):\n",
    "    \"\"\"\n",
    "    Parameters:\n",
    "        path - filepath for the original file\n",
    "        \n",
    "    Returns\n",
    "        data - (numpy.ndarray) array with the userId, movieId and rating\n",
    "    \"\"\"\n",
    "    data = np.genfromtxt(path, delimiter=',', skip_header=1, usecols=[0, 1, 2])\n",
    "    return data\n",
    "\n",
    "data = read_data(path)"
   ]
  },
  {
   "cell_type": "code",
   "execution_count": 4,
   "metadata": {
    "deletable": false,
    "nbgrader": {
     "grade": false,
     "grade_id": "cell-8a6b8634bc3ef2ff",
     "locked": false,
     "schema_version": 3,
     "solution": true,
     "task": false
    }
   },
   "outputs": [],
   "source": [
    "def make_ratings(data):\n",
    "    \"\"\"\n",
    "    Parameters\n",
    "        data - data originated from the function read_data\n",
    "        \n",
    "    Returns\n",
    "        R - Ratings matrix\n",
    "    \"\"\"\n",
    "    # YOUR CODE HERE\n",
    "    users, user_pos = np.unique(data[:, 0], return_inverse=True)\n",
    "    items, item_pos = np.unique(data[:, 1], return_inverse=True)\n",
    "    \n",
    "    R = np.zeros((len(users), len(items)))\n",
    "    R[user_pos, item_pos] = data[:, 2]\n",
    "    \n",
    "    return R\n",
    "\n",
    "R = make_ratings(data)"
   ]
  },
  {
   "cell_type": "code",
   "execution_count": 5,
   "metadata": {},
   "outputs": [
    {
     "data": {
      "text/plain": [
       "'We have 671 user and 9066 items.'"
      ]
     },
     "execution_count": 5,
     "metadata": {},
     "output_type": "execute_result"
    }
   ],
   "source": [
    "f\"We have {R.shape[0]} user and {R.shape[1]} items.\""
   ]
  },
  {
   "cell_type": "code",
   "execution_count": 6,
   "metadata": {
    "deletable": false,
    "editable": false,
    "nbgrader": {
     "grade": true,
     "grade_id": "cell-96e5374618fa4f16",
     "locked": true,
     "points": 0,
     "schema_version": 3,
     "solution": false,
     "task": false
    }
   },
   "outputs": [],
   "source": [
    "expected_hash = '3e68e59862d4b598351ba37b6103d22d125e0ec19f8c91a97188ffc78e156137'\n",
    "assert hashlib.sha256(str(R.shape).encode()).hexdigest() == expected_hash"
   ]
  },
  {
   "cell_type": "markdown",
   "metadata": {},
   "source": [
    "## Q1: Convert the Ratings Matrix to a Sparse Representation"
   ]
  },
  {
   "cell_type": "code",
   "execution_count": 7,
   "metadata": {
    "deletable": false,
    "nbgrader": {
     "grade": false,
     "grade_id": "cell-c0c272ba37054416",
     "locked": false,
     "schema_version": 3,
     "solution": true,
     "task": false
    }
   },
   "outputs": [],
   "source": [
    "from scipy.sparse import csr_matrix\n",
    "def get_csr(R):\n",
    "    \"\"\"\n",
    "    Parameters\n",
    "        R - Ratings Matrix\n",
    "    \n",
    "    Returns\n",
    "        H_ - Compressed Sparse Row Matrix\n",
    "    \"\"\"\n",
    "    H_= csr_matrix(R)\n",
    "    return H_\n",
    "\n",
    "H_ = get_csr(R)"
   ]
  },
  {
   "cell_type": "code",
   "execution_count": 8,
   "metadata": {
    "deletable": false,
    "editable": false,
    "nbgrader": {
     "grade": true,
     "grade_id": "cell-35b3a4b1f0a76185",
     "locked": true,
     "points": 1,
     "schema_version": 3,
     "solution": false,
     "task": false
    }
   },
   "outputs": [],
   "source": [
    "expected_hash = '1d6952c195999c1f9de9e2e0f47e3c748cd784aa9578645e656f34ec6d546170'\n",
    "assert hashlib.sha256(str(H_).encode()).hexdigest() == expected_hash"
   ]
  },
  {
   "cell_type": "markdown",
   "metadata": {},
   "source": [
    "## Q2: What is the space efficiency of converting to sparse\n",
    "In percentage, rounded up to 2 decimal places."
   ]
  },
  {
   "cell_type": "code",
   "execution_count": 9,
   "metadata": {
    "deletable": false,
    "nbgrader": {
     "grade": false,
     "grade_id": "cell-49adf0f3c0101526",
     "locked": false,
     "schema_version": 3,
     "solution": true,
     "task": false
    }
   },
   "outputs": [],
   "source": [
    "def get_sparsity_score(R):\n",
    "    \"\"\"\n",
    "    Parameters\n",
    "        R - Ratings Matrix\n",
    "        \n",
    "    Returns:\n",
    "        sparsity_score - (float) Sparsity Score of R. In percentage, rounded up to 2 decimal places.\n",
    "    \"\"\"\n",
    "    sparsity_score= (R[R.nonzero()].size / R.size)*100\n",
    "    return round(sparsity_score, 2)\n",
    "\n",
    "sparsity_score = get_sparsity_score(R)"
   ]
  },
  {
   "cell_type": "code",
   "execution_count": 10,
   "metadata": {},
   "outputs": [
    {
     "data": {
      "text/plain": [
       "1.64"
      ]
     },
     "execution_count": 10,
     "metadata": {},
     "output_type": "execute_result"
    }
   ],
   "source": [
    "sparsity_score"
   ]
  },
  {
   "cell_type": "code",
   "execution_count": 11,
   "metadata": {
    "deletable": false,
    "editable": false,
    "nbgrader": {
     "grade": true,
     "grade_id": "cell-0792440f45999d40",
     "locked": true,
     "points": 1,
     "schema_version": 3,
     "solution": false,
     "task": false
    }
   },
   "outputs": [],
   "source": [
    "expected_hash = '41a05f83a0b06fc85074bed9caee5fcf753ffde064f211c8ff11f1a29edd2b72'\n",
    "assert hashlib.sha256(str(sparsity_score).encode()).hexdigest() == expected_hash"
   ]
  },
  {
   "cell_type": "code",
   "execution_count": 12,
   "metadata": {},
   "outputs": [
    {
     "data": {
      "text/plain": [
       "'The Sparsity Score is 1.64%.'"
      ]
     },
     "execution_count": 12,
     "metadata": {},
     "output_type": "execute_result"
    }
   ],
   "source": [
    "f\"The Sparsity Score is {sparsity_score}%.\""
   ]
  },
  {
   "cell_type": "code",
   "execution_count": 13,
   "metadata": {
    "deletable": false,
    "nbgrader": {
     "grade": false,
     "grade_id": "cell-89fbf22e9ca1d40b",
     "locked": false,
     "schema_version": 3,
     "solution": true,
     "task": false
    }
   },
   "outputs": [],
   "source": [
    "def get_sparsity_representation_savings(H_, R):\n",
    "    \"\"\"\n",
    "    Parameters\n",
    "        H_ - CSR Matrix\n",
    "        R  - Original ratings matrix\n",
    "        \n",
    "    Returns\n",
    "        savings - (float) percentage of CSR size in relation to original ratings matrix.\n",
    "    \"\"\"\n",
    "    savings= ((H_.size)/ (R.size))*100\n",
    "    return round(savings,2)\n",
    "\n",
    "sparsity_representation_savings = get_sparsity_representation_savings(H_, R)"
   ]
  },
  {
   "cell_type": "code",
   "execution_count": 14,
   "metadata": {
    "deletable": false,
    "editable": false,
    "nbgrader": {
     "grade": true,
     "grade_id": "cell-5dc75b98cd143c65",
     "locked": true,
     "points": 1,
     "schema_version": 3,
     "solution": false,
     "task": false
    }
   },
   "outputs": [],
   "source": [
    "expected_hash = '41a05f83a0b06fc85074bed9caee5fcf753ffde064f211c8ff11f1a29edd2b72'\n",
    "assert hashlib.sha256(str(sparsity_representation_savings).encode()).hexdigest() == expected_hash"
   ]
  },
  {
   "cell_type": "code",
   "execution_count": 15,
   "metadata": {},
   "outputs": [
    {
     "data": {
      "text/plain": [
       "'The Sparse Representation size is 1.64% of the original matrix.'"
      ]
     },
     "execution_count": 15,
     "metadata": {},
     "output_type": "execute_result"
    }
   ],
   "source": [
    "f\"The Sparse Representation size is {sparsity_representation_savings}% of the original matrix.\""
   ]
  },
  {
   "cell_type": "code",
   "execution_count": 16,
   "metadata": {},
   "outputs": [],
   "source": [
    "# Just to make sure that the dense representation of the sparse matches the original ratings matrix\n",
    "assert H_.todense().shape == R.shape"
   ]
  },
  {
   "cell_type": "markdown",
   "metadata": {},
   "source": [
    "## Q3: Popular Items - What are the Top-3 Most Rated items?\n",
    "More ratings give us the current trends but not necessarily the best suggestions."
   ]
  },
  {
   "cell_type": "code",
   "execution_count": 17,
   "metadata": {
    "deletable": false,
    "nbgrader": {
     "grade": false,
     "grade_id": "cell-9ce05dd01331575e",
     "locked": false,
     "schema_version": 3,
     "solution": true,
     "task": false
    }
   },
   "outputs": [],
   "source": [
    "def top3items(R, n=3):\n",
    "    \"\"\"\n",
    "    Parameters\n",
    "        R - Ratings parameter\n",
    "        n - Number of Top-n items to retrieve\n",
    "        \n",
    "    Returns\n",
    "        most_rated - (numpy.ndarray) array for top-n most rated items\n",
    "    \"\"\"\n",
    "    rated= np.greater(R, 0)\n",
    "    most_rated= rated.sum(axis=0)\n",
    "    most_rated = np.negative(most_rated).argsort()[:n]\n",
    "    return most_rated\n",
    "    \n",
    "most_wanted = top3items(R)"
   ]
  },
  {
   "cell_type": "code",
   "execution_count": 18,
   "metadata": {
    "deletable": false,
    "editable": false,
    "nbgrader": {
     "grade": true,
     "grade_id": "cell-ae4661f44fc09de8",
     "locked": true,
     "points": 4,
     "schema_version": 3,
     "solution": false,
     "task": false
    }
   },
   "outputs": [],
   "source": [
    "expected_hash = '41f87af66749260f2d7a04703f1069a37e58135d2e9f43e4c1f94e026cff1117'\n",
    "assert hashlib.sha256(str(most_wanted).encode()).hexdigest() == expected_hash"
   ]
  },
  {
   "cell_type": "markdown",
   "metadata": {},
   "source": [
    "## Q4: Influencers - What are the Top-5 Most Active Users?"
   ]
  },
  {
   "cell_type": "code",
   "execution_count": 19,
   "metadata": {
    "deletable": false,
    "nbgrader": {
     "grade": false,
     "grade_id": "cell-1559bfc72b8eaf4c",
     "locked": false,
     "schema_version": 3,
     "solution": true,
     "task": false
    }
   },
   "outputs": [],
   "source": [
    "def get_influencers(R, n=5):\n",
    "    \"\"\"\n",
    "    Parameters\n",
    "        R - Ratings parameter\n",
    "        n - number of top-n most active users\n",
    "        \n",
    "    Returns\n",
    "        influencers - (numpy.ndarray) array for top-n most active users\n",
    "    \"\"\"\n",
    "    rated= np.greater(R, 0)\n",
    "    influencers= rated.sum(axis=1)\n",
    "    influencers = np.negative(influencers).argsort()[:n]\n",
    "    return influencers\n",
    "influencers = get_influencers(R)"
   ]
  },
  {
   "cell_type": "code",
   "execution_count": 20,
   "metadata": {
    "deletable": false,
    "editable": false,
    "nbgrader": {
     "grade": true,
     "grade_id": "cell-2cd4b77837e74779",
     "locked": true,
     "points": 4,
     "schema_version": 3,
     "solution": false,
     "task": false
    }
   },
   "outputs": [],
   "source": [
    "expected_hash = 'e2440e4dd3a85b37a5401b3d4e5c437aaa26de0620f19178bc782c82dd4c3432'\n",
    "assert hashlib.sha256(str(influencers).encode()).hexdigest() == expected_hash"
   ]
  },
  {
   "cell_type": "markdown",
   "metadata": {},
   "source": [
    "## Q5: Elite - What are the Top-7 Better Rated Items?\n",
    "Since this can be biased by a low number of ratings, we need items to have at least 10 ratings."
   ]
  },
  {
   "cell_type": "code",
   "execution_count": 178,
   "metadata": {},
   "outputs": [],
   "source": [
    "def is_rating(R):\n",
    "    return np.greater(R, 0)\n",
    "\n",
    "def count_ratings(R):\n",
    "    R_ = is_rating(R)\n",
    "    return R_.sum(axis=0)\n",
    "\n",
    "def remove_zeros(R):\n",
    "    R_ = R.copy()\n",
    "    R_[R_ == 0] = np.NaN\n",
    "    return R_\n",
    "\n",
    "def mean_ratings(R):\n",
    "    R_ = remove_zeros(R)\n",
    "    return np.nanmean(R_, axis=0)\n",
    "\n",
    "def best_mean_rating(R, n):\n",
    "    R_ = mean_ratings(R)\n",
    "    return np.negative(R_).argsort()[:n]"
   ]
  },
  {
   "cell_type": "code",
   "execution_count": 179,
   "metadata": {
    "deletable": false,
    "nbgrader": {
     "grade": false,
     "grade_id": "cell-62b63f8f75bd5d58",
     "locked": false,
     "schema_version": 3,
     "solution": true,
     "task": false
    },
    "scrolled": true
   },
   "outputs": [
    {
     "data": {
      "text/plain": [
       "array([ 812, 1371,  376,  173,  817, 1839,  814], dtype=int64)"
      ]
     },
     "execution_count": 179,
     "metadata": {},
     "output_type": "execute_result"
    }
   ],
   "source": [
    "def elite(R, n=7, k=10):\n",
    "    \"\"\"\n",
    "    Parameters\n",
    "        R - Ratings Matrix\n",
    "        n - Top-n items\n",
    "        k - Mininum number of ratings\n",
    "        \n",
    "    Returns\n",
    "        best_items - (numpy.ndarray) array for top-n best mean rated items \n",
    "        \n",
    "    \"\"\"\n",
    "    \n",
    "    the_index = [i for i, e in enumerate(list(count_ratings(R))) if e < k]\n",
    "    w = np.delete(R, the_index, axis=1)\n",
    "    z = best_mean_rating(w, n)\n",
    "    return z\n",
    "\n",
    "best_items = elite(R)\n",
    "best_items"
   ]
  },
  {
   "cell_type": "code",
   "execution_count": 180,
   "metadata": {
    "deletable": false,
    "editable": false,
    "nbgrader": {
     "grade": true,
     "grade_id": "cell-3e673279793bc5d4",
     "locked": true,
     "points": 4,
     "schema_version": 3,
     "solution": false,
     "task": false
    },
    "scrolled": true
   },
   "outputs": [],
   "source": [
    "expected_hash = '25af7ec79f15bf252f96440f68995619f7b85bdfc1f89d69a227cd9d4cf80e7d'\n",
    "assert hashlib.sha256(str(best_items).encode()).hexdigest() == expected_hash"
   ]
  },
  {
   "cell_type": "markdown",
   "metadata": {},
   "source": [
    "## Q6: Apriori - What are the 5 most common 3-piece itemsets?\n",
    "We define \"common itemsets\" as at least 3 different items that are usually bought together at least by 20% of the population.\n",
    "Show your results sorted by support in descending way."
   ]
  },
  {
   "cell_type": "code",
   "execution_count": null,
   "metadata": {
    "deletable": false,
    "nbgrader": {
     "grade": false,
     "grade_id": "cell-dff47ecd831f9ca3",
     "locked": false,
     "schema_version": 3,
     "solution": true,
     "task": false
    }
   },
   "outputs": [],
   "source": [
    "def getBundlesSolution(R, n=None, min_support=None, top=None):\n",
    "    \"\"\"\n",
    "    Parameters\n",
    "        R: Ratings Matrix\n",
    "        n: Number of items in commonset\n",
    "        min_support: Minimum percentage of users that contains the itemset\n",
    "        top: Number of most common itemsets\n",
    "        \n",
    "    Return\n",
    "        df: the return dataframe should have two columns [\"support\", \"itemsets\"],\n",
    "            with the support percentage and the itemsets.\n",
    "    \"\"\"\n",
    "    df= pd.DataFrame(R > 0)\n",
    "    df= apriori(df, min_support=min_support)\n",
    "    df['length'] = df['itemsets'].apply(lambda x: len(x))\n",
    "    df= df[(df['length'] == 3) & (df['support'] >= 0.2) ]\n",
    "    df= df.sort_values(by ='support' , ascending=False)\n",
    "    return df[:top].drop(columns=['length'])\n",
    "\n",
    "df = getBundlesSolution(R, n=3, min_support=0.2, top=5)"
   ]
  },
  {
   "cell_type": "code",
   "execution_count": null,
   "metadata": {
    "deletable": false,
    "editable": false,
    "nbgrader": {
     "grade": true,
     "grade_id": "cell-404e9c98f711743d",
     "locked": true,
     "points": 5,
     "schema_version": 3,
     "solution": false,
     "task": false
    }
   },
   "outputs": [],
   "source": [
    "expected_hash = 'f7441550a0ca5274581d023417c99540e3a8a4cca68824a87cbe6d95c07742ea'\n",
    "assert hashlib.sha256(str(df.shape).encode()).hexdigest() == expected_hash\n",
    "\n",
    "expected_hash = '62572327fb0a94f45a9bc8604ccb94f8925a6883b7fb5cd4786c736824ccb8b8'\n",
    "assert hashlib.sha256(str(df.iloc[0,1]).encode()).hexdigest() == expected_hash\n",
    "\n",
    "np.testing.assert_approx_equal(df.iloc[2, 0], 0.253353, significant=4)"
   ]
  },
  {
   "cell_type": "code",
   "execution_count": null,
   "metadata": {},
   "outputs": [],
   "source": []
  }
 ],
 "metadata": {
  "kernelspec": {
   "display_name": "Python 3",
   "language": "python",
   "name": "python3"
  },
  "language_info": {
   "codemirror_mode": {
    "name": "ipython",
    "version": 3
   },
   "file_extension": ".py",
   "mimetype": "text/x-python",
   "name": "python",
   "nbconvert_exporter": "python",
   "pygments_lexer": "ipython3",
   "version": "3.7.3"
  }
 },
 "nbformat": 4,
 "nbformat_minor": 2
}
