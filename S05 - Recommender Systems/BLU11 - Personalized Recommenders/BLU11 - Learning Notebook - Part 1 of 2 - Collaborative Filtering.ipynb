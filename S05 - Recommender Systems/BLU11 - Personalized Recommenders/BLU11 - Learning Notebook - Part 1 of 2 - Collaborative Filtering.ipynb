{
 "cells": [
  {
   "cell_type": "markdown",
   "metadata": {},
   "source": [
    "# BLU11 - Learning Notebook - Part 1 of 2 - Collaborative Filtering"
   ]
  },
  {
   "cell_type": "code",
   "execution_count": 1,
   "metadata": {},
   "outputs": [],
   "source": [
    "import os\n",
    "\n",
    "import numpy as np\n",
    "import pandas as pd\n",
    "\n",
    "import matplotlib.pyplot as plt\n",
    "%matplotlib inline\n",
    "\n",
    "from numpy.linalg import norm\n",
    "from scipy.sparse import csr_matrix, save_npz\n",
    "\n",
    "from sklearn.metrics.pairwise import cosine_similarity"
   ]
  },
  {
   "cell_type": "markdown",
   "metadata": {},
   "source": [
    "# Welcome to personalized recommendations\n",
    "\n",
    "Imagine that a company selling video games online (e.g., Steam, Apple Arcade) hires you to help scale recommendations.\n",
    "\n",
    "At the beginning of the company, there were a handful of players and games.\n",
    "\n",
    "Early customers were somewhat similar, given that most come from word-of-mouth, and people in the real world tend to share advice with friends and family with similar tastes.\n",
    "\n",
    "Games were not incredibly diverse themselves, as they were highly curated by the company, according to pre-defined criteria, such as genre or storytelling.\n",
    "\n",
    "Hence, recommendations were a hybrid of non-personalized recommenders (given that users were more or less alike), such as best-sellers lists, and manual suggestions provided over the phone or by email by the company.\n",
    "\n",
    "In short, for as long as there were games available that matched the typical players, all was good.\n",
    "\n",
    "Except that, to grow the business, the company wants to expand to new customer segments and diversify its games offering to grab a more significant proportion of the market.\n",
    "\n",
    "There is, nonetheless, a challenge: how can we efficiently match players to games, when faced with a variety of alternatives? \n",
    "\n",
    "By the way, welcome to the job! :)\n",
    "\n",
    "# About the data\n",
    "\n",
    "Once you arrive at the new job, this is what you have to work with:\n",
    "* The `hours_played.csv` is a table of hours played per user per game\n",
    "* The `video_games.csv` is a table containing the video games\n",
    "* The `metadata.json` is a file containing some necessary video game metadata.\n",
    "\n",
    "The metadata looks ugly 💩 , and we decide to ignore, for now. So what do we have, effectively?\n",
    "\n",
    "## Hours played\n",
    "\n",
    "The `hours_played.csv` is the record of the **number of hours played per player per game**:\n",
    "* Each row is a **game purchase**, identified by the corresponding `UserID` and `VideoGameID` (game)\n",
    "* `HoursPlayed == 1` means that the user bought the game but **played it for less than one hour** (in fact, `HoursPlayed <= 1`)\n",
    "* The column `HoursPlayed` refers to the **total time played** by the user for the game, in hours. "
   ]
  },
  {
   "cell_type": "code",
   "execution_count": 2,
   "metadata": {},
   "outputs": [],
   "source": [
    "hours_played = pd.read_csv(os.path.join('data', 'hours_played.csv'))"
   ]
  },
  {
   "cell_type": "markdown",
   "metadata": {},
   "source": [
    "The data is in long-format, where each row is an observation, the number of hours played, for a user-item pair, $(u, i) \\in (U, I)$. \n",
    "\n",
    "Most times, you learn, this is the first input of a recommender."
   ]
  },
  {
   "cell_type": "code",
   "execution_count": 3,
   "metadata": {
    "scrolled": false
   },
   "outputs": [
    {
     "data": {
      "text/html": [
       "<div>\n",
       "<style scoped>\n",
       "    .dataframe tbody tr th:only-of-type {\n",
       "        vertical-align: middle;\n",
       "    }\n",
       "\n",
       "    .dataframe tbody tr th {\n",
       "        vertical-align: top;\n",
       "    }\n",
       "\n",
       "    .dataframe thead th {\n",
       "        text-align: right;\n",
       "    }\n",
       "</style>\n",
       "<table border=\"1\" class=\"dataframe\">\n",
       "  <thead>\n",
       "    <tr style=\"text-align: right;\">\n",
       "      <th></th>\n",
       "      <th>UserID</th>\n",
       "      <th>VideoGameID</th>\n",
       "      <th>HoursPlayed</th>\n",
       "    </tr>\n",
       "  </thead>\n",
       "  <tbody>\n",
       "    <tr>\n",
       "      <th>0</th>\n",
       "      <td>0</td>\n",
       "      <td>227</td>\n",
       "      <td>5.9</td>\n",
       "    </tr>\n",
       "    <tr>\n",
       "      <th>1</th>\n",
       "      <td>0</td>\n",
       "      <td>852</td>\n",
       "      <td>145.0</td>\n",
       "    </tr>\n",
       "    <tr>\n",
       "      <th>2</th>\n",
       "      <td>0</td>\n",
       "      <td>978</td>\n",
       "      <td>1.0</td>\n",
       "    </tr>\n",
       "    <tr>\n",
       "      <th>3</th>\n",
       "      <td>0</td>\n",
       "      <td>984</td>\n",
       "      <td>1.0</td>\n",
       "    </tr>\n",
       "    <tr>\n",
       "      <th>4</th>\n",
       "      <td>0</td>\n",
       "      <td>1131</td>\n",
       "      <td>1.0</td>\n",
       "    </tr>\n",
       "  </tbody>\n",
       "</table>\n",
       "</div>"
      ],
      "text/plain": [
       "   UserID  VideoGameID  HoursPlayed\n",
       "0       0          227          5.9\n",
       "1       0          852        145.0\n",
       "2       0          978          1.0\n",
       "3       0          984          1.0\n",
       "4       0         1131          1.0"
      ]
     },
     "execution_count": 3,
     "metadata": {},
     "output_type": "execute_result"
    }
   ],
   "source": [
    "hours_played.head()"
   ]
  },
  {
   "cell_type": "markdown",
   "metadata": {},
   "source": [
    "This table is the **memory of the recommender system** as it records the history of the entire community.\n",
    "\n",
    "Since the engineering team kindly pre-processed the data, you can assume that:\n",
    "* There is **a single entry or row per user per game**\n",
    "* **User IDs are sequential integers**, ranging from 0 to 12392 (both inclusive)\n",
    "* **Video game IDs (i.e., Item IDs) are also sequential integers**, ranging from 0 to 5154 (both inclusive).\n",
    "\n",
    "Typically (in a Hackathon, for example 🤓), none of these can be safely assumed and should be ensured by the Data Scientist."
   ]
  },
  {
   "cell_type": "markdown",
   "metadata": {},
   "source": [
    "## Video games\n",
    "\n",
    "The `video_games.csv` is an auxiliary table that **maps the video game IDs to the video game name**."
   ]
  },
  {
   "cell_type": "code",
   "execution_count": 4,
   "metadata": {},
   "outputs": [],
   "source": [
    "video_games = pd.read_csv(os.path.join('data', 'video_games.csv'), index_col='VideoGameID')"
   ]
  },
  {
   "cell_type": "code",
   "execution_count": 5,
   "metadata": {
    "scrolled": true
   },
   "outputs": [
    {
     "data": {
      "text/html": [
       "<div>\n",
       "<style scoped>\n",
       "    .dataframe tbody tr th:only-of-type {\n",
       "        vertical-align: middle;\n",
       "    }\n",
       "\n",
       "    .dataframe tbody tr th {\n",
       "        vertical-align: top;\n",
       "    }\n",
       "\n",
       "    .dataframe thead th {\n",
       "        text-align: right;\n",
       "    }\n",
       "</style>\n",
       "<table border=\"1\" class=\"dataframe\">\n",
       "  <thead>\n",
       "    <tr style=\"text-align: right;\">\n",
       "      <th></th>\n",
       "      <th>VideoGameName</th>\n",
       "    </tr>\n",
       "    <tr>\n",
       "      <th>VideoGameID</th>\n",
       "      <th></th>\n",
       "    </tr>\n",
       "  </thead>\n",
       "  <tbody>\n",
       "    <tr>\n",
       "      <th>0</th>\n",
       "      <td>007 Legends</td>\n",
       "    </tr>\n",
       "    <tr>\n",
       "      <th>1</th>\n",
       "      <td>0RBITALIS</td>\n",
       "    </tr>\n",
       "    <tr>\n",
       "      <th>2</th>\n",
       "      <td>1... 2... 3... KICK IT! (Drop That Beat Like a...</td>\n",
       "    </tr>\n",
       "    <tr>\n",
       "      <th>3</th>\n",
       "      <td>10 Second Ninja</td>\n",
       "    </tr>\n",
       "    <tr>\n",
       "      <th>4</th>\n",
       "      <td>10,000,000</td>\n",
       "    </tr>\n",
       "  </tbody>\n",
       "</table>\n",
       "</div>"
      ],
      "text/plain": [
       "                                                 VideoGameName\n",
       "VideoGameID                                                   \n",
       "0                                                  007 Legends\n",
       "1                                                    0RBITALIS\n",
       "2            1... 2... 3... KICK IT! (Drop That Beat Like a...\n",
       "3                                              10 Second Ninja\n",
       "4                                                   10,000,000"
      ]
     },
     "execution_count": 5,
     "metadata": {},
     "output_type": "execute_result"
    }
   ],
   "source": [
    "video_games.head()"
   ]
  },
  {
   "cell_type": "markdown",
   "metadata": {},
   "source": [
    "We use this table to learn which `VideoGameName` corresponds to a `VideoGameID` so that **it makes sense for the final user**."
   ]
  },
  {
   "cell_type": "markdown",
   "metadata": {},
   "source": [
    "# Building the ratings\n",
    "\n",
    "Assuming **hours played as a proxy for preference**, i.e., most played games are the most interesting, we want to build a ratings matrix, $\\boldsymbol{R}$.\n",
    "\n",
    "For a community of $m$ users and $n$ items, the ratings are a $m$ by $n$ matrix with the users, $U$, in the rows and the items, $I$, in the columns:\n",
    "\n",
    "$$ R = \\begin{bmatrix}r_{0, 0} & r_{0, 1} & \\dots & r_{0, n}\\\\ r_{1, 0} & r_{1, 1} & \\dots & r_{1, n}\\\\ \\dots & \\dots & \\dots & \\dots \\\\ r_{m, 0} & r_{m, 1} & \\dots & r_{m, n}\\end{bmatrix}$$\n",
    "\n",
    "In our case, **the users are the players, and the items are the games**, and $m$ and $n$ are equal to 128,803 users and 5,155 items.\n",
    "\n",
    "Ratings correspond to hours played and, thus, can only be positive real numbers, $r_{u, i} \\in \\mathbb{R}_{>0}$.\n",
    "\n",
    "We can use `df.pivot` ([read the docs](https://pandas.pydata.org/pandas-docs/stable/reference/api/pandas.DataFrame.pivot.html)) to convert data from **long- to wide-form** and **create a column for each `VideoGameID`**."
   ]
  },
  {
   "cell_type": "code",
   "execution_count": 6,
   "metadata": {},
   "outputs": [
    {
     "data": {
      "text/html": [
       "<div>\n",
       "<style scoped>\n",
       "    .dataframe tbody tr th:only-of-type {\n",
       "        vertical-align: middle;\n",
       "    }\n",
       "\n",
       "    .dataframe tbody tr th {\n",
       "        vertical-align: top;\n",
       "    }\n",
       "\n",
       "    .dataframe thead th {\n",
       "        text-align: right;\n",
       "    }\n",
       "</style>\n",
       "<table border=\"1\" class=\"dataframe\">\n",
       "  <thead>\n",
       "    <tr style=\"text-align: right;\">\n",
       "      <th>VideoGameID</th>\n",
       "      <th>0</th>\n",
       "      <th>1</th>\n",
       "      <th>2</th>\n",
       "      <th>3</th>\n",
       "      <th>4</th>\n",
       "      <th>5</th>\n",
       "      <th>6</th>\n",
       "      <th>7</th>\n",
       "      <th>8</th>\n",
       "      <th>9</th>\n",
       "      <th>...</th>\n",
       "      <th>5145</th>\n",
       "      <th>5146</th>\n",
       "      <th>5147</th>\n",
       "      <th>5148</th>\n",
       "      <th>5149</th>\n",
       "      <th>5150</th>\n",
       "      <th>5151</th>\n",
       "      <th>5152</th>\n",
       "      <th>5153</th>\n",
       "      <th>5154</th>\n",
       "    </tr>\n",
       "    <tr>\n",
       "      <th>UserID</th>\n",
       "      <th></th>\n",
       "      <th></th>\n",
       "      <th></th>\n",
       "      <th></th>\n",
       "      <th></th>\n",
       "      <th></th>\n",
       "      <th></th>\n",
       "      <th></th>\n",
       "      <th></th>\n",
       "      <th></th>\n",
       "      <th></th>\n",
       "      <th></th>\n",
       "      <th></th>\n",
       "      <th></th>\n",
       "      <th></th>\n",
       "      <th></th>\n",
       "      <th></th>\n",
       "      <th></th>\n",
       "      <th></th>\n",
       "      <th></th>\n",
       "      <th></th>\n",
       "    </tr>\n",
       "  </thead>\n",
       "  <tbody>\n",
       "    <tr>\n",
       "      <th>0</th>\n",
       "      <td>NaN</td>\n",
       "      <td>NaN</td>\n",
       "      <td>NaN</td>\n",
       "      <td>NaN</td>\n",
       "      <td>NaN</td>\n",
       "      <td>NaN</td>\n",
       "      <td>NaN</td>\n",
       "      <td>NaN</td>\n",
       "      <td>NaN</td>\n",
       "      <td>NaN</td>\n",
       "      <td>...</td>\n",
       "      <td>NaN</td>\n",
       "      <td>NaN</td>\n",
       "      <td>NaN</td>\n",
       "      <td>NaN</td>\n",
       "      <td>NaN</td>\n",
       "      <td>NaN</td>\n",
       "      <td>NaN</td>\n",
       "      <td>NaN</td>\n",
       "      <td>NaN</td>\n",
       "      <td>NaN</td>\n",
       "    </tr>\n",
       "    <tr>\n",
       "      <th>1</th>\n",
       "      <td>NaN</td>\n",
       "      <td>NaN</td>\n",
       "      <td>NaN</td>\n",
       "      <td>NaN</td>\n",
       "      <td>NaN</td>\n",
       "      <td>NaN</td>\n",
       "      <td>NaN</td>\n",
       "      <td>NaN</td>\n",
       "      <td>NaN</td>\n",
       "      <td>NaN</td>\n",
       "      <td>...</td>\n",
       "      <td>NaN</td>\n",
       "      <td>NaN</td>\n",
       "      <td>NaN</td>\n",
       "      <td>NaN</td>\n",
       "      <td>NaN</td>\n",
       "      <td>NaN</td>\n",
       "      <td>NaN</td>\n",
       "      <td>NaN</td>\n",
       "      <td>NaN</td>\n",
       "      <td>NaN</td>\n",
       "    </tr>\n",
       "    <tr>\n",
       "      <th>2</th>\n",
       "      <td>NaN</td>\n",
       "      <td>NaN</td>\n",
       "      <td>NaN</td>\n",
       "      <td>NaN</td>\n",
       "      <td>NaN</td>\n",
       "      <td>NaN</td>\n",
       "      <td>NaN</td>\n",
       "      <td>NaN</td>\n",
       "      <td>NaN</td>\n",
       "      <td>NaN</td>\n",
       "      <td>...</td>\n",
       "      <td>NaN</td>\n",
       "      <td>NaN</td>\n",
       "      <td>NaN</td>\n",
       "      <td>NaN</td>\n",
       "      <td>NaN</td>\n",
       "      <td>NaN</td>\n",
       "      <td>NaN</td>\n",
       "      <td>NaN</td>\n",
       "      <td>NaN</td>\n",
       "      <td>NaN</td>\n",
       "    </tr>\n",
       "  </tbody>\n",
       "</table>\n",
       "<p>3 rows × 5155 columns</p>\n",
       "</div>"
      ],
      "text/plain": [
       "VideoGameID  0     1     2     3     4     5     6     7     8     9     ...  \\\n",
       "UserID                                                                   ...   \n",
       "0             NaN   NaN   NaN   NaN   NaN   NaN   NaN   NaN   NaN   NaN  ...   \n",
       "1             NaN   NaN   NaN   NaN   NaN   NaN   NaN   NaN   NaN   NaN  ...   \n",
       "2             NaN   NaN   NaN   NaN   NaN   NaN   NaN   NaN   NaN   NaN  ...   \n",
       "\n",
       "VideoGameID  5145  5146  5147  5148  5149  5150  5151  5152  5153  5154  \n",
       "UserID                                                                   \n",
       "0             NaN   NaN   NaN   NaN   NaN   NaN   NaN   NaN   NaN   NaN  \n",
       "1             NaN   NaN   NaN   NaN   NaN   NaN   NaN   NaN   NaN   NaN  \n",
       "2             NaN   NaN   NaN   NaN   NaN   NaN   NaN   NaN   NaN   NaN  \n",
       "\n",
       "[3 rows x 5155 columns]"
      ]
     },
     "execution_count": 6,
     "metadata": {},
     "output_type": "execute_result"
    }
   ],
   "source": [
    "(hours_played.pivot(index='UserID', columns='VideoGameID', values='HoursPlayed')\n",
    "             .head(n=3))"
   ]
  },
  {
   "cell_type": "code",
   "execution_count": 7,
   "metadata": {},
   "outputs": [
    {
     "data": {
      "text/html": [
       "<div>\n",
       "<style scoped>\n",
       "    .dataframe tbody tr th:only-of-type {\n",
       "        vertical-align: middle;\n",
       "    }\n",
       "\n",
       "    .dataframe tbody tr th {\n",
       "        vertical-align: top;\n",
       "    }\n",
       "\n",
       "    .dataframe thead th {\n",
       "        text-align: right;\n",
       "    }\n",
       "</style>\n",
       "<table border=\"1\" class=\"dataframe\">\n",
       "  <thead>\n",
       "    <tr style=\"text-align: right;\">\n",
       "      <th>VideoGameID</th>\n",
       "      <th>0</th>\n",
       "      <th>1</th>\n",
       "      <th>2</th>\n",
       "      <th>3</th>\n",
       "      <th>4</th>\n",
       "      <th>5</th>\n",
       "      <th>6</th>\n",
       "      <th>7</th>\n",
       "      <th>8</th>\n",
       "      <th>9</th>\n",
       "      <th>...</th>\n",
       "      <th>5145</th>\n",
       "      <th>5146</th>\n",
       "      <th>5147</th>\n",
       "      <th>5148</th>\n",
       "      <th>5149</th>\n",
       "      <th>5150</th>\n",
       "      <th>5151</th>\n",
       "      <th>5152</th>\n",
       "      <th>5153</th>\n",
       "      <th>5154</th>\n",
       "    </tr>\n",
       "    <tr>\n",
       "      <th>UserID</th>\n",
       "      <th></th>\n",
       "      <th></th>\n",
       "      <th></th>\n",
       "      <th></th>\n",
       "      <th></th>\n",
       "      <th></th>\n",
       "      <th></th>\n",
       "      <th></th>\n",
       "      <th></th>\n",
       "      <th></th>\n",
       "      <th></th>\n",
       "      <th></th>\n",
       "      <th></th>\n",
       "      <th></th>\n",
       "      <th></th>\n",
       "      <th></th>\n",
       "      <th></th>\n",
       "      <th></th>\n",
       "      <th></th>\n",
       "      <th></th>\n",
       "      <th></th>\n",
       "    </tr>\n",
       "  </thead>\n",
       "  <tbody>\n",
       "    <tr>\n",
       "      <th>12390</th>\n",
       "      <td>NaN</td>\n",
       "      <td>NaN</td>\n",
       "      <td>NaN</td>\n",
       "      <td>NaN</td>\n",
       "      <td>NaN</td>\n",
       "      <td>NaN</td>\n",
       "      <td>NaN</td>\n",
       "      <td>NaN</td>\n",
       "      <td>NaN</td>\n",
       "      <td>NaN</td>\n",
       "      <td>...</td>\n",
       "      <td>NaN</td>\n",
       "      <td>NaN</td>\n",
       "      <td>NaN</td>\n",
       "      <td>NaN</td>\n",
       "      <td>NaN</td>\n",
       "      <td>NaN</td>\n",
       "      <td>NaN</td>\n",
       "      <td>NaN</td>\n",
       "      <td>NaN</td>\n",
       "      <td>NaN</td>\n",
       "    </tr>\n",
       "    <tr>\n",
       "      <th>12391</th>\n",
       "      <td>NaN</td>\n",
       "      <td>NaN</td>\n",
       "      <td>NaN</td>\n",
       "      <td>NaN</td>\n",
       "      <td>NaN</td>\n",
       "      <td>NaN</td>\n",
       "      <td>NaN</td>\n",
       "      <td>NaN</td>\n",
       "      <td>NaN</td>\n",
       "      <td>NaN</td>\n",
       "      <td>...</td>\n",
       "      <td>NaN</td>\n",
       "      <td>NaN</td>\n",
       "      <td>NaN</td>\n",
       "      <td>NaN</td>\n",
       "      <td>NaN</td>\n",
       "      <td>NaN</td>\n",
       "      <td>NaN</td>\n",
       "      <td>NaN</td>\n",
       "      <td>NaN</td>\n",
       "      <td>NaN</td>\n",
       "    </tr>\n",
       "    <tr>\n",
       "      <th>12392</th>\n",
       "      <td>NaN</td>\n",
       "      <td>NaN</td>\n",
       "      <td>NaN</td>\n",
       "      <td>NaN</td>\n",
       "      <td>NaN</td>\n",
       "      <td>NaN</td>\n",
       "      <td>NaN</td>\n",
       "      <td>NaN</td>\n",
       "      <td>NaN</td>\n",
       "      <td>NaN</td>\n",
       "      <td>...</td>\n",
       "      <td>NaN</td>\n",
       "      <td>NaN</td>\n",
       "      <td>NaN</td>\n",
       "      <td>NaN</td>\n",
       "      <td>NaN</td>\n",
       "      <td>NaN</td>\n",
       "      <td>NaN</td>\n",
       "      <td>NaN</td>\n",
       "      <td>NaN</td>\n",
       "      <td>NaN</td>\n",
       "    </tr>\n",
       "  </tbody>\n",
       "</table>\n",
       "<p>3 rows × 5155 columns</p>\n",
       "</div>"
      ],
      "text/plain": [
       "VideoGameID  0     1     2     3     4     5     6     7     8     9     ...  \\\n",
       "UserID                                                                   ...   \n",
       "12390         NaN   NaN   NaN   NaN   NaN   NaN   NaN   NaN   NaN   NaN  ...   \n",
       "12391         NaN   NaN   NaN   NaN   NaN   NaN   NaN   NaN   NaN   NaN  ...   \n",
       "12392         NaN   NaN   NaN   NaN   NaN   NaN   NaN   NaN   NaN   NaN  ...   \n",
       "\n",
       "VideoGameID  5145  5146  5147  5148  5149  5150  5151  5152  5153  5154  \n",
       "UserID                                                                   \n",
       "12390         NaN   NaN   NaN   NaN   NaN   NaN   NaN   NaN   NaN   NaN  \n",
       "12391         NaN   NaN   NaN   NaN   NaN   NaN   NaN   NaN   NaN   NaN  \n",
       "12392         NaN   NaN   NaN   NaN   NaN   NaN   NaN   NaN   NaN   NaN  \n",
       "\n",
       "[3 rows x 5155 columns]"
      ]
     },
     "execution_count": 7,
     "metadata": {},
     "output_type": "execute_result"
    }
   ],
   "source": [
    "(hours_played.pivot(index='UserID', columns='VideoGameID', values='HoursPlayed')\n",
    "             .tail(n=3))"
   ]
  },
  {
   "cell_type": "markdown",
   "metadata": {},
   "source": [
    "We represent the ratings matrix as sparse because **most ratings are unknown to us**, or else we don't need a fancy recommender.\n",
    "\n",
    "We use Pandas to get the data to the right shape (users as rows, items as columns, and ratings as values) and then **convert the result into a sparse matrix**."
   ]
  },
  {
   "cell_type": "code",
   "execution_count": 8,
   "metadata": {
    "scrolled": true
   },
   "outputs": [],
   "source": [
    "def make_ratings(hours_played):\n",
    "    return csr_matrix(hours_played.pivot(index='UserID', \n",
    "                                         columns='VideoGameID', \n",
    "                                         values='HoursPlayed')\n",
    "                                  # Good practice when setting the index.\n",
    "                                  .sort_index()\n",
    "                                  # Sparse matrices don't assume NaN value as zeros.\n",
    "                                  .fillna(0)) \n",
    "\n",
    "\n",
    "R = make_ratings(hours_played)"
   ]
  },
  {
   "cell_type": "markdown",
   "metadata": {},
   "source": [
    "We were able  **to transform the community history into a proper ratings matrix**, and we are one step closer to our goal.\n",
    "\n",
    "We **persist the ratings matrix**, as it can be useful in the future."
   ]
  },
  {
   "cell_type": "code",
   "execution_count": 9,
   "metadata": {},
   "outputs": [],
   "source": [
    "save_npz(os.path.join('data', 'ratings_matrix.npz'), R)"
   ]
  },
  {
   "cell_type": "markdown",
   "metadata": {},
   "source": [
    "# Collaborative filtering\n",
    "\n",
    "Now that we have the data ready, it's time for some whiteboarding. \n",
    "\n",
    "How can we go about using the ratings matrix to provide personalized recommendations? 🤔\n",
    "\n",
    "Logically, you work under the assumption that what is true for word-of-mouth holds valid for personalized recommenders: **that people value more highly the opinions of other people that are (or are perceived to be) most like them**.\n",
    "\n",
    "## Collaborative recommendations\n",
    "\n",
    "You hypothesize that (1) if you can identify similar users, **Player A** and **Player B**, then (2) **you can recommend Player A a game that he doesn't own, but is well-liked by Player B** and vice-versa. You take a snapshot of the whiteboard:\n",
    "\n",
    "![user-user-collaborative-filtering](media/user-user-collaborative-filtering.png)\n",
    "*Image 1: Recommending unrated items favored by similar users.*\n",
    "\n",
    "An idea for similarities **is to identify users that play the same games** (e.g., Players A and B both play Game 1).\n",
    "\n",
    "You take a step back to realize something new: **Game 1 is connected to both Games 2 and 3**, by Users 1 and 2, respectively. \n",
    "\n",
    "**When the same user plays two games, they must have something in common**. Thus, you gather your thoughts:\n",
    "* The most games users have in common, the more similar they should be\n",
    "* The most users games have in common, the more similar they should be. \n",
    "\n",
    "This approach is collaborative, as **the history of the rest of the community is used to provide personalized recommendations for the user**.\n",
    "\n",
    "## Defining neighborhoods of users or items\n",
    "\n",
    "Finally, you take your idea one step further, inspired by the $k$-nearest neighbor ($k$-NN) algorithm for regression.\n",
    "\n",
    "Assuming we can calculate similarities between users or items, then we define neighborhoods: \n",
    "* $N^k_i(u)$, containignt **the $k$ the most similar neighbors of user $u$** that **rated the item $i$**\n",
    "* $N^k_u(i)$, with **the $k$ most similar neighbors of item $i$** that were **rated by the user $u$**.\n",
    "\n",
    "The maximum value of $k$ is the length of the set of all users that rated the item, $U_i$, or of all ratings by the user, $I_u$, respectively.\n",
    "\n",
    "## Predicting ratings based on the $k$-nearest neighbors\n",
    "\n",
    "The easiest way to predict an unknown rating, $r_{ui}$, would be **to average the ratings of the neighbors**. \n",
    "\n",
    "For example, using the neighborhood of the user $u$ for item $i$ (**user-based** recommendation), $N^k_i(u)$:\n",
    "\n",
    "$$\\hat{r}_{ui} = \\frac{\\sum_{v \\in N^k_i(u)} r_{vi}}{k}$$\n",
    "\n",
    "But you realize you can do better: what if there are neighbors that are very similar and some that are not similar at all? The most similar neighbors should have more weight to **emulate the word-of-mouth behavior** we are trying to model. You decide to use a weighted average, instead:\n",
    "\n",
    "$$\\hat{r}_{ui} = \\frac{\\sum_{v \\in N^k_i(u)} sim(u, v)  \\cdot r_{vi}}{\\sum_{v \\in N^k_i(u)} |sim(u, v)|}$$\n",
    "\n",
    "The formulation uses the **absolute value of the similarities, as to accommodate negative similarities**.\n",
    "\n",
    "Alternatively, using the neighborhood of the item $i$ for user $u$, $N^k_u(i)$:\n",
    "\n",
    "$$\\hat{r}_{ui} = \\frac{\\sum_{j \\in N^k_u(i)} sim(i, j)  \\cdot r_{uj}}{\\sum_{j \\in N^k_u(i)} |sim(i, j)|}$$\n",
    "\n",
    "The **item-based** prediction of $r_{ui}$ is, therefore, **the weighted average of the ratings by user $u$ to items in the $k$ nearest neighbors of $i$**.\n",
    "\n",
    "Collaborative filtering relies on computing **predicted ratings based on the average of the $k$ neighbors, weighted by the similarity**.\n",
    "\n",
    "It can be **user-user**, when we are using the neighborhood of $u$, $N^k_i(u)$, or **item-item**, when we are using the neighborhood of $i$, $N^k_u(i)$.\n",
    "\n",
    "Enough of the whiteboard, it's implementation time. 💪\n",
    "\n",
    "# Computing the similarities\n",
    "\n",
    "The problem, therefore, becomes: **how do we go about computing similarities**? \n",
    "\n",
    "Fortunately, we already have in our toolkit an appropriate tool to solve this problem. Let's start with a few examples to get the requirements right.\n",
    "\n",
    "For the sake of conciseness, **we focus on similarities between users**, for now.\n",
    "\n",
    "## Users with identical ratings\n",
    "\n",
    "Imagine the simplest case in which we have two players, **Player A** and **Player B**, and two games, **Game 0** and **Game 1**.\n",
    "\n",
    "The most similar users would play the same games for the same amount of time."
   ]
  },
  {
   "cell_type": "code",
   "execution_count": 10,
   "metadata": {
    "scrolled": true
   },
   "outputs": [
    {
     "data": {
      "text/html": [
       "<div>\n",
       "<style scoped>\n",
       "    .dataframe tbody tr th:only-of-type {\n",
       "        vertical-align: middle;\n",
       "    }\n",
       "\n",
       "    .dataframe tbody tr th {\n",
       "        vertical-align: top;\n",
       "    }\n",
       "\n",
       "    .dataframe thead th {\n",
       "        text-align: right;\n",
       "    }\n",
       "</style>\n",
       "<table border=\"1\" class=\"dataframe\">\n",
       "  <thead>\n",
       "    <tr style=\"text-align: right;\">\n",
       "      <th></th>\n",
       "      <th>A</th>\n",
       "      <th>B</th>\n",
       "    </tr>\n",
       "  </thead>\n",
       "  <tbody>\n",
       "    <tr>\n",
       "      <th>0</th>\n",
       "      <td>1000</td>\n",
       "      <td>1000</td>\n",
       "    </tr>\n",
       "    <tr>\n",
       "      <th>1</th>\n",
       "      <td>1000</td>\n",
       "      <td>1000</td>\n",
       "    </tr>\n",
       "  </tbody>\n",
       "</table>\n",
       "</div>"
      ],
      "text/plain": [
       "      A     B\n",
       "0  1000  1000\n",
       "1  1000  1000"
      ]
     },
     "execution_count": 10,
     "metadata": {},
     "output_type": "execute_result"
    }
   ],
   "source": [
    "example_1 = pd.DataFrame.from_dict({'A': [1000, 1000], 'B': [1000, 1000]})\n",
    "example_1"
   ]
  },
  {
   "cell_type": "markdown",
   "metadata": {},
   "source": [
    "We project the user-vectors, which are precisely the same, in **the two-dimensional space formed by both games**."
   ]
  },
  {
   "cell_type": "code",
   "execution_count": 11,
   "metadata": {},
   "outputs": [
    {
     "data": {
      "image/png": "[encoded data removed]",
      "text/plain": [
       "<Figure size 432x288 with 1 Axes>"
      ]
     },
     "metadata": {
      "needs_background": "light"
     },
     "output_type": "display_data"
    }
   ],
   "source": [
    "def plot_vectors(vectors):\n",
    "    X, Y, U, V = zip(*vectors)\n",
    "    plt.figure()\n",
    "    ax = plt.gca()\n",
    "    ax.quiver(X, Y, U, V, angles='xy', scale_units='xy', scale=1)\n",
    "    ax.set_xlim([-1100, 1100])\n",
    "    ax.set_ylim([-1100, 1100])\n",
    "    ax.set_xlabel('Game 0')\n",
    "    ax.set_ylabel('Game 1')\n",
    "    plt.draw()\n",
    "    plt.show()\n",
    "\n",
    "    \n",
    "vectors_1 = np.array([[0, 0, 1000, 1000], [0, 0, 1000, 1000]])\n",
    "plot_vectors(vectors_1)"
   ]
  },
  {
   "cell_type": "markdown",
   "metadata": {},
   "source": [
    "From the representation, we understand that the users are **indifferent between both games**, i.e., like them equally, as illustrated by the 45º line.\n",
    "\n",
    "If we are to use a similarity metric, **the similarity between these vectors must be high**."
   ]
  },
  {
   "cell_type": "markdown",
   "metadata": {},
   "source": [
    "## Does scale matter?\n",
    "\n",
    "Finally, imagine two players that play the same games, but one player (Player A) plays relatively more hours."
   ]
  },
  {
   "cell_type": "code",
   "execution_count": 12,
   "metadata": {
    "scrolled": true
   },
   "outputs": [
    {
     "data": {
      "text/html": [
       "<div>\n",
       "<style scoped>\n",
       "    .dataframe tbody tr th:only-of-type {\n",
       "        vertical-align: middle;\n",
       "    }\n",
       "\n",
       "    .dataframe tbody tr th {\n",
       "        vertical-align: top;\n",
       "    }\n",
       "\n",
       "    .dataframe thead th {\n",
       "        text-align: right;\n",
       "    }\n",
       "</style>\n",
       "<table border=\"1\" class=\"dataframe\">\n",
       "  <thead>\n",
       "    <tr style=\"text-align: right;\">\n",
       "      <th></th>\n",
       "      <th>A</th>\n",
       "      <th>B</th>\n",
       "    </tr>\n",
       "  </thead>\n",
       "  <tbody>\n",
       "    <tr>\n",
       "      <th>0</th>\n",
       "      <td>1000</td>\n",
       "      <td>500</td>\n",
       "    </tr>\n",
       "    <tr>\n",
       "      <th>1</th>\n",
       "      <td>1000</td>\n",
       "      <td>500</td>\n",
       "    </tr>\n",
       "  </tbody>\n",
       "</table>\n",
       "</div>"
      ],
      "text/plain": [
       "      A    B\n",
       "0  1000  500\n",
       "1  1000  500"
      ]
     },
     "execution_count": 12,
     "metadata": {},
     "output_type": "execute_result"
    }
   ],
   "source": [
    "example_2 = pd.DataFrame.from_dict({'A': [1000, 1000], 'B': [500, 500]})\n",
    "example_2"
   ]
  },
  {
   "cell_type": "markdown",
   "metadata": {},
   "source": [
    "We understand these vectors are **still collinear** and **have the same direction**, but have different magnitudes."
   ]
  },
  {
   "cell_type": "code",
   "execution_count": 13,
   "metadata": {},
   "outputs": [
    {
     "data": {
      "image/png": "[encoded data removed]",
      "text/plain": [
       "<Figure size 432x288 with 1 Axes>"
      ]
     },
     "metadata": {
      "needs_background": "light"
     },
     "output_type": "display_data"
    }
   ],
   "source": [
    "vectors_2 = np.array([[0, 0, 1000, 1000], [0, 0, 500, 500]])\n",
    "plot_vectors(vectors_2)"
   ]
  },
  {
   "cell_type": "markdown",
   "metadata": {},
   "source": [
    "We are interested in relative preferences, i.e., how items are valued relative to each other, and, thus, **we decide to ignore the scale**. \n",
    "\n",
    "This example is similar to the first one, and **Games 0 and 1 are valued equally by both users**.\n",
    "\n",
    "Henceforth, **the similarity between the vectors should be high still** (and as high as in the last example). \n",
    "\n",
    "Note that distance metrics that consider the magnitude of the vectors, such as the [Euclidean distance](https://en.wikipedia.org/wiki/Euclidean_distance) or the [dot product](https://en.wikipedia.org/wiki/Dot_product), violate this principle."
   ]
  },
  {
   "cell_type": "markdown",
   "metadata": {},
   "source": [
    "## Users with exclusive ratings\n",
    "\n",
    "Now, take the case in which users play exclusively different games for the same amount of time."
   ]
  },
  {
   "cell_type": "code",
   "execution_count": 14,
   "metadata": {},
   "outputs": [
    {
     "data": {
      "text/html": [
       "<div>\n",
       "<style scoped>\n",
       "    .dataframe tbody tr th:only-of-type {\n",
       "        vertical-align: middle;\n",
       "    }\n",
       "\n",
       "    .dataframe tbody tr th {\n",
       "        vertical-align: top;\n",
       "    }\n",
       "\n",
       "    .dataframe thead th {\n",
       "        text-align: right;\n",
       "    }\n",
       "</style>\n",
       "<table border=\"1\" class=\"dataframe\">\n",
       "  <thead>\n",
       "    <tr style=\"text-align: right;\">\n",
       "      <th></th>\n",
       "      <th>A</th>\n",
       "      <th>B</th>\n",
       "    </tr>\n",
       "  </thead>\n",
       "  <tbody>\n",
       "    <tr>\n",
       "      <th>0</th>\n",
       "      <td>1000</td>\n",
       "      <td>0</td>\n",
       "    </tr>\n",
       "    <tr>\n",
       "      <th>1</th>\n",
       "      <td>0</td>\n",
       "      <td>1000</td>\n",
       "    </tr>\n",
       "  </tbody>\n",
       "</table>\n",
       "</div>"
      ],
      "text/plain": [
       "      A     B\n",
       "0  1000     0\n",
       "1     0  1000"
      ]
     },
     "execution_count": 14,
     "metadata": {},
     "output_type": "execute_result"
    }
   ],
   "source": [
    "example_3 = pd.DataFrame.from_dict({'A': [1000, 0], 'B': [0, 1000]})\n",
    "example_3"
   ]
  },
  {
   "cell_type": "markdown",
   "metadata": {},
   "source": [
    "These are users with different tastes. Again, **we project the users into the space of the games**."
   ]
  },
  {
   "cell_type": "code",
   "execution_count": 15,
   "metadata": {},
   "outputs": [
    {
     "data": {
      "image/png": "[encoded data removed]",
      "text/plain": [
       "<Figure size 432x288 with 1 Axes>"
      ]
     },
     "metadata": {
      "needs_background": "light"
     },
     "output_type": "display_data"
    }
   ],
   "source": [
    "vectors_3 = np.array([[0, 0, 1000, 0], [0, 0, 0, 1000]])\n",
    "plot_vectors(vectors_3)"
   ]
  },
  {
   "cell_type": "markdown",
   "metadata": {},
   "source": [
    "We grasp, intuitively, that the preferences are exclusive and that **the respective user vectors are orthogonal in space**. *There is no similarity*.\n",
    "\n",
    "It means that the users have nothing in common and, thus, **any similarity metric should be equal to zero** in this case.\n",
    "\n",
    "## What about opposite ratings?\n",
    "\n",
    "Consider now that the company is considering the creation of a **negative feedback signal**. How could similarities account for this?\n",
    "\n",
    "Imagine that negative feedback (e.g., a dislike or downvote button) would be stored with the value -1000, as follows."
   ]
  },
  {
   "cell_type": "code",
   "execution_count": 16,
   "metadata": {},
   "outputs": [
    {
     "data": {
      "text/html": [
       "<div>\n",
       "<style scoped>\n",
       "    .dataframe tbody tr th:only-of-type {\n",
       "        vertical-align: middle;\n",
       "    }\n",
       "\n",
       "    .dataframe tbody tr th {\n",
       "        vertical-align: top;\n",
       "    }\n",
       "\n",
       "    .dataframe thead th {\n",
       "        text-align: right;\n",
       "    }\n",
       "</style>\n",
       "<table border=\"1\" class=\"dataframe\">\n",
       "  <thead>\n",
       "    <tr style=\"text-align: right;\">\n",
       "      <th></th>\n",
       "      <th>A</th>\n",
       "      <th>B</th>\n",
       "    </tr>\n",
       "  </thead>\n",
       "  <tbody>\n",
       "    <tr>\n",
       "      <th>0</th>\n",
       "      <td>1000</td>\n",
       "      <td>-1000</td>\n",
       "    </tr>\n",
       "    <tr>\n",
       "      <th>1</th>\n",
       "      <td>0</td>\n",
       "      <td>0</td>\n",
       "    </tr>\n",
       "  </tbody>\n",
       "</table>\n",
       "</div>"
      ],
      "text/plain": [
       "      A     B\n",
       "0  1000 -1000\n",
       "1     0     0"
      ]
     },
     "execution_count": 16,
     "metadata": {},
     "output_type": "execute_result"
    }
   ],
   "source": [
    "example_4 = pd.DataFrame.from_dict({'A': [1000, 0], 'B': [-1000, 0]})\n",
    "example_4"
   ]
  },
  {
   "cell_type": "markdown",
   "metadata": {},
   "source": [
    "**The Players A and B are inversely affected by Game 0**, whereas Player A likes it (positive preference), the Player B doesn't (negative).\n",
    "\n",
    "What can we conclude by inspecting the projections?"
   ]
  },
  {
   "cell_type": "code",
   "execution_count": 17,
   "metadata": {},
   "outputs": [
    {
     "data": {
      "image/png": "[encoded data removed]",
      "text/plain": [
       "<Figure size 432x288 with 1 Axes>"
      ]
     },
     "metadata": {
      "needs_background": "light"
     },
     "output_type": "display_data"
    }
   ],
   "source": [
    "vectors_4 = np.array([[0, 0, 1000, 0], [0, 0, -1000, 0]])\n",
    "plot_vectors(vectors_4)"
   ]
  },
  {
   "cell_type": "markdown",
   "metadata": {},
   "source": [
    "The user vectors, in this case, **are collinear but have opposite directions** and a negative similarity (i.e., **they are the opposite**). Thus, any similarity metric to fit our problem needs to be negative in this case.\n",
    "\n",
    "Again, we are already familiar with such a similarity metric. So **you decide to use the cosine similarity**."
   ]
  },
  {
   "cell_type": "markdown",
   "metadata": {},
   "source": [
    "## Cosine similarity\n",
    "\n",
    "The cosine similarity, which **measures differences in orientation by using the cosine of the angle between two vectors**, fits our problem:\n",
    "\n",
    "$$sim(u, v) = cos(\\theta) = \\frac{u \\cdot v}{||u||||v||} = \\frac{\\sum_{i \\in I_{uv}} u_i v_i}{\\sqrt{\\sum_{i \\in I_{u}} u_i^2} \\sqrt{\\sum_{i \\in I_{v}} v_i^2}}$$\n",
    "\n",
    "Where $I_{uv}$ stands for the **set of items rated by both users**, and $I_{u}$ and $I_{v}$ for the **sets of items rates by $u$ and $v$**, respectively.\n",
    "\n",
    "The cosine distance is **the normalized dot product** (and therefore unaffected by scale) and the resulting similarity ranges from:\n",
    "* −1 meaning exactly opposite (example 4) and 1 precisely the same (examples 1 and 2)\n",
    "* 0 indicating orthogonality or decorrelation (example 3)\n",
    "* In-between values indicate intermediate similarity.\n",
    "\n",
    "Alternatively, the cosine similarity **can be formulated as distance metric** as:\n",
    "\n",
    "$$dist(u, v) = 1- sim(u, v)$$\n",
    "\n",
    "In this case, it works the opposite way: the higher the distance, the more different."
   ]
  },
  {
   "cell_type": "code",
   "execution_count": 18,
   "metadata": {},
   "outputs": [
    {
     "data": {
      "text/plain": [
       "1.0"
      ]
     },
     "execution_count": 18,
     "metadata": {},
     "output_type": "execute_result"
    }
   ],
   "source": [
    "def similarity(u, v):\n",
    "    return round(np.dot(u, v) / (norm(u) * norm(v)), 2)\n",
    "\n",
    "\n",
    "similarity(example_1.A, example_1.B)"
   ]
  },
  {
   "cell_type": "code",
   "execution_count": 19,
   "metadata": {},
   "outputs": [
    {
     "data": {
      "text/plain": [
       "1.0"
      ]
     },
     "execution_count": 19,
     "metadata": {},
     "output_type": "execute_result"
    }
   ],
   "source": [
    "similarity(example_2.A, example_2.B)"
   ]
  },
  {
   "cell_type": "code",
   "execution_count": 20,
   "metadata": {},
   "outputs": [
    {
     "data": {
      "text/plain": [
       "0.0"
      ]
     },
     "execution_count": 20,
     "metadata": {},
     "output_type": "execute_result"
    }
   ],
   "source": [
    "similarity(example_3.A, example_3.B)"
   ]
  },
  {
   "cell_type": "code",
   "execution_count": 21,
   "metadata": {},
   "outputs": [
    {
     "data": {
      "text/plain": [
       "-1.0"
      ]
     },
     "execution_count": 21,
     "metadata": {},
     "output_type": "execute_result"
    }
   ],
   "source": [
    "similarity(example_4.A, example_4.B)"
   ]
  },
  {
   "cell_type": "markdown",
   "metadata": {},
   "source": [
    "Alternatively, we can compute similarities for pairs of items as follows:\n",
    "\n",
    "$$sim(i, j) = cos(\\theta) = \\frac{i \\cdot j}{||i||||j||} = \\frac{\\sum_{u \\in U_{ij}} i_u j_u}{\\sqrt{\\sum_{u \\in U_i} i_u^2} \\sqrt{\\sum_{u \\in U_j}  j_u^2}}$$\n",
    "\n",
    "$U_{ij}$ is **the set of users that rates both items**, while $U_i$ and $U_j$ are the **users that rated $i$ and $u$**, respectively.\n",
    "\n",
    "# Computing similarities\n",
    "\n",
    "Implementation time: the `cosine_similarity` from `sklearn.metrics.pairwise` computes the cosine between samples in $A$ and $B$ ([docs](https://scikit-learn.org/stable/modules/generated/sklearn.metrics.pairwise.cosine_similarity.html)):\n",
    "\n",
    "$$sim(A, B) = \\frac{A \\cdot B}{||A||||B||}$$ \n",
    "\n",
    "If $A$ is a $m \\times n$ matrix and $B$ a $n \\times k$ matrix, **the result will be a $m \\times k$ containing the cosine distance between all samples**.\n",
    "\n",
    "Doing this, we can compute the cosine similarity between all samples at once, in a vectorized and efficient way."
   ]
  },
  {
   "cell_type": "markdown",
   "metadata": {},
   "source": [
    "## Between users\n",
    "\n",
    "In our case, we obtain, $S_u$, a $U \\times U$, containing the cosine similarity between all users, as:\n",
    "\n",
    "$$S_U = \\frac{R \\cdot R^T}{||R||||R^T||}$$\n",
    "\n",
    "$R$ and $R^T$ are $U \\times I$ and $I \\times U$ matrices, respectively. $S_u$ contains the cosine distance for all pairs $(u, v) \\in U \\times U$:\n",
    "\n",
    "$$S_U = \\begin{bmatrix}1 & cos(u_0, v_1) & \\dots & cos(u_0, v_m) \\\\ cos(u_1, v_0) & 1 & \\dots & cos(u_1, v_m) \\\\ \\dots  & \\dots & 1 & \\dots \\\\ cos(u_m, v_0) & cos(u_m, v_1) & \\dots & 1\\end{bmatrix}$$\n",
    "\n",
    "The result is a triangular matrix, a square matrix **with repeated entries above of below the main diagonal**."
   ]
  },
  {
   "cell_type": "code",
   "execution_count": 22,
   "metadata": {},
   "outputs": [],
   "source": [
    "def make_user_similarities(R):\n",
    "    return cosine_similarity(R, dense_output=False)\n",
    "\n",
    "\n",
    "user_similarities = make_user_similarities(R)"
   ]
  },
  {
   "cell_type": "markdown",
   "metadata": {},
   "source": [
    "## Between items\n",
    "\n",
    "The items matrix, $S_i$, stores the consine similarity between all pairs of items:\n",
    "\n",
    "$$S_I = \\frac{R^T \\cdot R}{||R^T||||R||}$$\n",
    "\n",
    "The result is a $I \\times I$ triangular matrix with the cosine distance between all pairs $(i, j) \\in I \\times I$:\n",
    "\n",
    "$$S_I = \\begin{bmatrix}1 & cos(i_0, j_1) & \\dots & cos(i_0, j_n) \\\\ cos(i_1, j_0) & 1 & \\dots & cos(i_1, j_n) \\\\ \\dots  & \\dots & \\dots & \\dots \\\\ cos(i_n, j_0) & cos(i_n, j_1) & \\dots & 1\\end{bmatrix}$$"
   ]
  },
  {
   "cell_type": "code",
   "execution_count": 23,
   "metadata": {},
   "outputs": [],
   "source": [
    "def make_item_similarities(R):\n",
    "    return cosine_similarity(R.T, dense_output=False)\n",
    "\n",
    "\n",
    "item_similarities = make_item_similarities(R)"
   ]
  },
  {
   "cell_type": "markdown",
   "metadata": {},
   "source": [
    "# Making predictions\n",
    "\n",
    "## Based on user-similarities, $S_u$\n",
    "\n",
    "For the sake of simplicity, instead of the $k$ most similar, consider that we use all available neighbors,$N_i(u)$, for prediction.\n",
    "\n",
    "$$\\hat{r}_{ui} = \\frac{\\sum_{v \\in N_i(u)} sim(u, v)  \\cdot r_{vi}}{\\sum_{v \\in N_i(u)} |sim(u, v)|}$$\n",
    "\n",
    "In this particular case, $N_i(u)$ contains all the users that rated item $i$. Again, we use vectorization to compute all predictions at once."
   ]
  },
  {
   "cell_type": "code",
   "execution_count": 24,
   "metadata": {
    "scrolled": true
   },
   "outputs": [],
   "source": [
    "def make_user_predictions(S, R):\n",
    "    \n",
    "    weighted_sum = np.dot(S, R)\n",
    "    \n",
    "    # We use the absolute value to support negative similarities.\n",
    "    # In this particular example there are none.\n",
    "    sum_of_weights = np.abs(S).sum(axis=1)\n",
    "    \n",
    "    preds = weighted_sum / sum_of_weights\n",
    "    \n",
    "    # Exclude previously rated items.\n",
    "    preds[R.nonzero()] = 0\n",
    "    \n",
    "    return csr_matrix(preds)\n",
    " \n",
    "\n",
    "user_preds = make_user_predictions(user_similarities, R)"
   ]
  },
  {
   "cell_type": "code",
   "execution_count": 46,
   "metadata": {},
   "outputs": [
    {
     "name": "stdout",
     "output_type": "stream",
     "text": [
      "  (0, 1)\t0.0006544929229685474\n",
      "  (0, 2)\t0.012809645892423381\n",
      "  (0, 3)\t0.005443633770613753\n",
      "  (0, 4)\t0.0019110216962606654\n",
      "  (0, 5)\t0.002685263329379299\n",
      "  (0, 6)\t0.00018049236111622802\n",
      "  (0, 7)\t0.001893796120454366\n",
      "  (0, 8)\t0.001292791778557575\n",
      "  (0, 9)\t0.0009200213886105356\n",
      "  (0, 10)\t0.001990785388947909\n",
      "  (0, 12)\t0.0010334475914411916\n",
      "  (0, 13)\t0.0009044006698212594\n",
      "  (0, 14)\t0.0005662266363695838\n",
      "  (0, 15)\t0.0009059626181913343\n",
      "  (0, 16)\t4.376855279445677e-05\n",
      "  (0, 17)\t0.0014472100392712987\n",
      "  (0, 18)\t0.0004402324365763852\n",
      "  (0, 19)\t0.0003154218526273414\n",
      "  (0, 20)\t0.00016105377706775308\n",
      "  (0, 21)\t0.00023606666888878632\n",
      "  (0, 22)\t1.248671841323318e-05\n",
      "  (0, 23)\t0.00010969428023562313\n",
      "  (0, 25)\t0.014616271090772256\n",
      "  (0, 26)\t0.001056180021074424\n",
      "  (0, 27)\t0.0020053619692308564\n",
      "  :\t:\n",
      "  (12392, 5119)\t5.676595415439185e-07\n",
      "  (12392, 5120)\t9.756534381717324e-06\n",
      "  (12392, 5121)\t0.00028311299774862317\n",
      "  (12392, 5123)\t0.0006229568882395765\n",
      "  (12392, 5124)\t4.5045996512806375e-05\n",
      "  (12392, 5125)\t6.826245152293066e-07\n",
      "  (12392, 5128)\t1.0264858941180276e-06\n",
      "  (12392, 5131)\t2.7071479896465405e-06\n",
      "  (12392, 5132)\t0.0007588378127462289\n",
      "  (12392, 5134)\t0.00010061234930784845\n",
      "  (12392, 5135)\t4.179327572514793e-06\n",
      "  (12392, 5136)\t4.0068200430869415e-06\n",
      "  (12392, 5137)\t9.47096309485404e-07\n",
      "  (12392, 5138)\t0.0001023715694274584\n",
      "  (12392, 5140)\t3.815426495242548e-05\n",
      "  (12392, 5141)\t4.747625480225163e-05\n",
      "  (12392, 5143)\t0.00017829253096466097\n",
      "  (12392, 5146)\t0.00013057693569554462\n",
      "  (12392, 5147)\t1.2189355107755638e-05\n",
      "  (12392, 5148)\t0.004477889175660891\n",
      "  (12392, 5150)\t0.0059515953706059995\n",
      "  (12392, 5151)\t0.0002334180316593955\n",
      "  (12392, 5152)\t0.0005812241016714415\n",
      "  (12392, 5153)\t0.02173938541599416\n",
      "  (12392, 5154)\t4.691558323135337e-05\n"
     ]
    }
   ],
   "source": [
    "print(user_preds)"
   ]
  },
  {
   "cell_type": "markdown",
   "metadata": {},
   "source": [
    "Please note that, despite our efforts, we were **unable to predict many ratings**.\n",
    "\n",
    "Meet the **the cold-start problem**. Notably, we won't be able to make predictions **for users that don't have items in common with other users**.\n",
    "\n",
    "In that case, $\\forall v \\in U\\setminus{u}, I_{uv} = \\emptyset$, then **there are no available neighbors and, thus, no prediction can be made**, i.e., $N(u) = \\emptyset$.\n",
    "\n",
    "Additionally, the set of neighbors that rated item $i$ is a subset of all neighbors, $N_i(u) \\subseteq N(u)$. So, in order to make a prediction for user $u$, we need at least an user $v \\in U$ with items in common with user $u$, $I_{uv} \\neq \\emptyset$, that rated item $i$."
   ]
  },
  {
   "cell_type": "code",
   "execution_count": 26,
   "metadata": {},
   "outputs": [
    {
     "data": {
      "text/plain": [
       "0.2291358744724874"
      ]
     },
     "execution_count": 26,
     "metadata": {},
     "output_type": "execute_result"
    }
   ],
   "source": [
    "def sparsity(matrix):\n",
    "    return 1 - matrix.nnz / (matrix.shape[0] * matrix.shape[1])\n",
    "\n",
    "\n",
    "sparsity(user_preds)"
   ]
  },
  {
   "cell_type": "markdown",
   "metadata": {},
   "source": [
    "Above, **we use `.nnz` to return the count of non-zero stored values** ([docs](https://docs.scipy.org/doc/scipy-0.14.0/reference/generated/scipy.sparse.csr_matrix.nnz.html)). The sparsity score gives us **the percentage of ratings that we couldn't predict**.\n",
    "\n",
    "23% of missing predictions is not so bad, especially when we compare the sparsity of the predicted ratings vs the initial ratings (we'll leave this one for you to check). "
   ]
  },
  {
   "cell_type": "code",
   "execution_count": 27,
   "metadata": {},
   "outputs": [
    {
     "data": {
      "image/png": "[encoded data removed]",
      "text/plain": [
       "<Figure size 432x288 with 1 Axes>"
      ]
     },
     "metadata": {
      "needs_background": "light"
     },
     "output_type": "display_data"
    }
   ],
   "source": [
    "plt.hist(user_preds.getnnz(axis=1))\n",
    "plt.xlabel('number of items with predicted rating')\n",
    "plt.ylabel('user frequency');"
   ]
  },
  {
   "cell_type": "code",
   "execution_count": 28,
   "metadata": {},
   "outputs": [
    {
     "data": {
      "image/png": "[encoded data removed]",
      "text/plain": [
       "<Figure size 432x288 with 1 Axes>"
      ]
     },
     "metadata": {
      "needs_background": "light"
     },
     "output_type": "display_data"
    }
   ],
   "source": [
    "# same plot but with fractions instead of absolute counts\n",
    "plt.hist(user_preds.getnnz(axis=1) / user_preds.shape[1])\n",
    "plt.xlabel('fraction of items with predicted rating')\n",
    "plt.ylabel('user frequency');"
   ]
  },
  {
   "cell_type": "markdown",
   "metadata": {},
   "source": [
    "From the plot above, we understand that **while most users have a significant number of predicted item ratings, some don't (including users with zero predicted item ratings, for which we are unable to make predictions)**."
   ]
  },
  {
   "cell_type": "code",
   "execution_count": 29,
   "metadata": {},
   "outputs": [
    {
     "data": {
      "image/png": "[encoded data removed]",
      "text/plain": [
       "<Figure size 432x288 with 1 Axes>"
      ]
     },
     "metadata": {
      "needs_background": "light"
     },
     "output_type": "display_data"
    }
   ],
   "source": [
    "# The -1 is because the user_similarities matrix has 1 on the main diagonal,\n",
    "# which represents self-similarity, that we don't want to consider\n",
    "user_total_neighbors = user_similarities.getnnz(axis=1) - 1\n",
    "plt.hist(user_total_neighbors)\n",
    "plt.xlabel('number of neighbors')\n",
    "plt.ylabel('user frequency');"
   ]
  },
  {
   "cell_type": "markdown",
   "metadata": {},
   "source": [
    "From the plot above, we also realize that **a significant amount of users don't have many neighbors** (i.e., users with at least one item in common). The plot below shows the a zoomed-in on the the users with little neighbors."
   ]
  },
  {
   "cell_type": "code",
   "execution_count": 30,
   "metadata": {},
   "outputs": [
    {
     "data": {
      "image/png": "[encoded data removed]",
      "text/plain": [
       "<Figure size 432x288 with 1 Axes>"
      ]
     },
     "metadata": {
      "needs_background": "light"
     },
     "output_type": "display_data"
    }
   ],
   "source": [
    "plt.hist(user_total_neighbors[user_total_neighbors < 500])\n",
    "plt.xlabel('number of neighbors')\n",
    "plt.ylabel('user frequency');"
   ]
  },
  {
   "cell_type": "code",
   "execution_count": 31,
   "metadata": {},
   "outputs": [
    {
     "data": {
      "text/plain": [
       "2701"
      ]
     },
     "execution_count": 31,
     "metadata": {},
     "output_type": "execute_result"
    }
   ],
   "source": [
    "user_total_neighbors[user_total_neighbors < 500].shape[0]"
   ]
  },
  {
   "cell_type": "markdown",
   "metadata": {},
   "source": [
    "There are 2701 users with **less than 500 neighbors**."
   ]
  },
  {
   "cell_type": "code",
   "execution_count": 32,
   "metadata": {},
   "outputs": [
    {
     "data": {
      "text/plain": [
       "19"
      ]
     },
     "execution_count": 32,
     "metadata": {},
     "output_type": "execute_result"
    }
   ],
   "source": [
    "(user_total_neighbors == 0).sum()"
   ]
  },
  {
   "cell_type": "markdown",
   "metadata": {},
   "source": [
    "**But only 19 users don't have neighbors, which is close to none!**\n",
    "\n",
    "For as long as one neighbor has **rated the item whose rating we are predicting**, we can make a prediction. Hence, **the relatively low sparsity score of the predictions matrix**. But **we can't assure that the prediction is any good**. \n",
    "\n",
    "Imagine the extreme case in which a user has a single neighbor and that neighbor is not similar at all: what will we predict? Well, we'll predict that the user won't like anything that the neighbor has bought (these items will have a bad predicted rating), but we don't know how to recommend anything else, because all the other items will have a neutral predicted rating!\n",
    "\n",
    "Also, there's the trade-off: if we limit the predictions to users with over **a minimum threshold of neighbors**, possibly even accounting for minimum similarity, **the sparsity of the predictions matrix increases**, and we need to be addressed it, somehow. (Non-personalized recommendations, perhaps.)\n",
    "\n",
    "The cold-start problem is a **major limitation of collaborative-filtering**, that we explore shortly."
   ]
  },
  {
   "cell_type": "markdown",
   "metadata": {},
   "source": [
    "## Based on item-similarities, $S_i$\n",
    "\n",
    "Analogously, we can use $S_i$ to make predictions based on all available neighbors, $N_u(i)$:\n",
    "\n",
    "$$\\hat{r}_{ui} = \\frac{\\sum_{j \\in N_u(i)} sim(i, j)  \\cdot r_{uj}}{\\sum_{j \\in N_u(i)} |sim(i, j)|}$$\n",
    "\n",
    "Again, the existence of a neighborhood of item $i$ for user $u$, $N_u(i)$, depends on having **at least an item $j \\in I$ with users in common with $i$, also rated by $u$**. "
   ]
  },
  {
   "cell_type": "code",
   "execution_count": 33,
   "metadata": {},
   "outputs": [
    {
     "data": {
      "text/plain": [
       "0.2291358744724874"
      ]
     },
     "execution_count": 33,
     "metadata": {},
     "output_type": "execute_result"
    }
   ],
   "source": [
    "def make_item_predictions(S, R):\n",
    "    \n",
    "    weighted_sum = np.dot(R, S)\n",
    "    \n",
    "    # We use the absolute value to support negative similarities.\n",
    "    # In this particular example there are none.\n",
    "    sum_of_weights = np.abs(S).sum(axis=0)\n",
    "    \n",
    "    preds = weighted_sum / sum_of_weights\n",
    "    \n",
    "    # Exclude previously rated items.\n",
    "    preds[R.nonzero()] = 0\n",
    "    \n",
    "    return csr_matrix(preds)\n",
    "\n",
    " \n",
    "item_preds = make_item_predictions(item_similarities, R)\n",
    "sparsity(item_preds)"
   ]
  },
  {
   "cell_type": "markdown",
   "metadata": {},
   "source": [
    "Again, we compute the **sparsity score**, which we realize to be the same. You can try it for yourself, **the histograms above for the matrix of predictions also stay the same**."
   ]
  },
  {
   "cell_type": "code",
   "execution_count": 34,
   "metadata": {},
   "outputs": [
    {
     "data": {
      "image/png": "[encoded data removed]",
      "text/plain": [
       "<Figure size 432x288 with 1 Axes>"
      ]
     },
     "metadata": {
      "needs_background": "light"
     },
     "output_type": "display_data"
    }
   ],
   "source": [
    "plt.hist(item_similarities.getnnz(axis=1))\n",
    "plt.xlabel('number of (item) neighbors')\n",
    "plt.ylabel('item frequency');"
   ]
  },
  {
   "cell_type": "markdown",
   "metadata": {},
   "source": [
    "The histogram above also shows us that **the distribution of the number of neighbors is quite skewed to the left**, i.e., there are still small neighborhoods.\n",
    "\n",
    "So, item-based recommendations **don't help us in dealing with the cold-start problem**.\n",
    "\n",
    "Item-based recommendations, empirically, are said to be **more stable than user preferences**. It means that we don't have to recompute them as often.\n",
    "As an intuition for this, you can think that usually we have more interactions at the product level than at the user level: while an item will be rated / bought thousands of times, a user will only rate / buy maybe hundreds of products. So the item similarities will tend to be more reliable and change less when new interactions are added."
   ]
  },
  {
   "cell_type": "markdown",
   "metadata": {},
   "source": [
    "# Filtering\n",
    "\n",
    "Now that we have the predictions, the last step is to **filter the items** to recommend the most promising ones.\n",
    "\n",
    "## Best-item\n",
    "\n",
    "A typical task is to recommend the best item, i.e., **the item with the highest predicted rating**.\n",
    "\n",
    "We can use `argmax` ([docs](https://docs.scipy.org/doc/numpy/reference/generated/numpy.argmax.html)) on our matrix of predictions to retrieve the index of the item with the maximum rating."
   ]
  },
  {
   "cell_type": "code",
   "execution_count": 35,
   "metadata": {
    "scrolled": false
   },
   "outputs": [
    {
     "data": {
      "text/plain": [
       "array([[ 981],\n",
       "       [1336],\n",
       "       [4257],\n",
       "       ...,\n",
       "       [ 981],\n",
       "       [ 981],\n",
       "       [ 981]])"
      ]
     },
     "execution_count": 35,
     "metadata": {},
     "output_type": "execute_result"
    }
   ],
   "source": [
    "def get_best_item(pred):\n",
    "    return np.array(pred.argmax(axis=1))\n",
    "\n",
    "\n",
    "get_best_item(user_preds)"
   ]
  },
  {
   "cell_type": "code",
   "execution_count": 36,
   "metadata": {},
   "outputs": [
    {
     "data": {
      "text/plain": [
       "array([[4723],\n",
       "       [2521],\n",
       "       [5117],\n",
       "       ...,\n",
       "       [2328],\n",
       "       [1539],\n",
       "       [1539]])"
      ]
     },
     "execution_count": 36,
     "metadata": {},
     "output_type": "execute_result"
    }
   ],
   "source": [
    "get_best_item(item_preds)"
   ]
  },
  {
   "cell_type": "markdown",
   "metadata": {},
   "source": [
    "The result, in both cases, is **a column-vector containing the best item for each user**.\n",
    "\n",
    "Finally, we can use the `video_games` table to retrieve the name of the game."
   ]
  },
  {
   "cell_type": "code",
   "execution_count": 37,
   "metadata": {
    "scrolled": true
   },
   "outputs": [
    {
     "data": {
      "text/plain": [
       "VideoGameName    Counter-Strike Global Offensive\n",
       "Name: 981, dtype: object"
      ]
     },
     "execution_count": 37,
     "metadata": {},
     "output_type": "execute_result"
    }
   ],
   "source": [
    "video_games.loc[981]"
   ]
  },
  {
   "cell_type": "code",
   "execution_count": 38,
   "metadata": {
    "scrolled": true
   },
   "outputs": [
    {
     "data": {
      "text/plain": [
       "VideoGameName    Dota 2\n",
       "Name: 1336, dtype: object"
      ]
     },
     "execution_count": 38,
     "metadata": {},
     "output_type": "execute_result"
    }
   ],
   "source": [
    "video_games.loc[1336]"
   ]
  },
  {
   "cell_type": "code",
   "execution_count": 39,
   "metadata": {},
   "outputs": [
    {
     "data": {
      "text/plain": [
       "VideoGameName    Team Fortress 2\n",
       "Name: 4257, dtype: object"
      ]
     },
     "execution_count": 39,
     "metadata": {},
     "output_type": "execute_result"
    }
   ],
   "source": [
    "video_games.loc[4257]"
   ]
  },
  {
   "cell_type": "markdown",
   "metadata": {},
   "source": [
    "## Top-N\n",
    "\n",
    "Perhaps the most typical task, however, is to recommend a top-$N$ list to the user, i.e., **the $N$ items with the best ratings**. \n",
    "\n",
    "To do this, we can use `argsort` ([docs](https://docs.scipy.org/doc/numpy/reference/generated/numpy.argsort.html))."
   ]
  },
  {
   "cell_type": "code",
   "execution_count": 40,
   "metadata": {},
   "outputs": [
    {
     "data": {
      "text/plain": [
       "array([[ 981, 4364, 3825, 2475, 1894],\n",
       "       [1336, 4257,  979, 4364, 1894],\n",
       "       [4257, 1336,  981, 3825, 1679],\n",
       "       ...,\n",
       "       [ 981, 4257, 1336, 4788, 4364],\n",
       "       [ 981, 4257,  978,  984, 4364],\n",
       "       [ 981, 4257,  978,  984, 4364]], dtype=int64)"
      ]
     },
     "execution_count": 40,
     "metadata": {},
     "output_type": "execute_result"
    }
   ],
   "source": [
    "def get_top_n(pred, n):\n",
    "    pred_ = np.negative(pred).toarray()\n",
    "    return pred_.argsort()[:, :n]\n",
    "\n",
    "\n",
    "get_top_n(user_preds, 5)"
   ]
  },
  {
   "cell_type": "code",
   "execution_count": 41,
   "metadata": {
    "scrolled": true
   },
   "outputs": [
    {
     "data": {
      "text/plain": [
       "array([[4723, 4874, 3536, 3161,  839],\n",
       "       [2521, 4999, 3351, 2411, 4085],\n",
       "       [5117,  469, 1486, 3536, 3201],\n",
       "       ...,\n",
       "       [2328, 5144, 5113, 3421, 1988],\n",
       "       [1539, 1337,  843, 2420, 3558],\n",
       "       [1539, 1337,  843, 2420, 3558]], dtype=int64)"
      ]
     },
     "execution_count": 41,
     "metadata": {},
     "output_type": "execute_result"
    }
   ],
   "source": [
    "get_top_n(item_preds, 5)"
   ]
  },
  {
   "cell_type": "markdown",
   "metadata": {},
   "source": [
    "Again, we can use `video_games` as a lookup table."
   ]
  },
  {
   "cell_type": "code",
   "execution_count": 42,
   "metadata": {
    "scrolled": true
   },
   "outputs": [
    {
     "data": {
      "text/plain": [
       "VideoGameName    The Elder Scrolls V Skyrim\n",
       "Name: 4364, dtype: object"
      ]
     },
     "execution_count": 42,
     "metadata": {},
     "output_type": "execute_result"
    }
   ],
   "source": [
    "video_games.loc[4364]"
   ]
  },
  {
   "cell_type": "code",
   "execution_count": 43,
   "metadata": {},
   "outputs": [
    {
     "data": {
      "text/plain": [
       "VideoGameName    Sid Meier's Civilization V\n",
       "Name: 3825, dtype: object"
      ]
     },
     "execution_count": 43,
     "metadata": {},
     "output_type": "execute_result"
    }
   ],
   "source": [
    "video_games.loc[3825]"
   ]
  },
  {
   "cell_type": "code",
   "execution_count": 44,
   "metadata": {},
   "outputs": [
    {
     "data": {
      "text/plain": [
       "VideoGameName    Left 4 Dead 2\n",
       "Name: 2475, dtype: object"
      ]
     },
     "execution_count": 44,
     "metadata": {},
     "output_type": "execute_result"
    }
   ],
   "source": [
    "video_games.loc[2475]"
   ]
  },
  {
   "cell_type": "code",
   "execution_count": 45,
   "metadata": {},
   "outputs": [
    {
     "data": {
      "text/plain": [
       "VideoGameName    Chris Sawyer's Locomotion\n",
       "Name: 839, dtype: object"
      ]
     },
     "execution_count": 45,
     "metadata": {},
     "output_type": "execute_result"
    }
   ],
   "source": [
    "video_games.loc[839]"
   ]
  },
  {
   "cell_type": "markdown",
   "metadata": {},
   "source": [
    "In case you're wondering, [Locomotion is the \"spiritual successor to Transport Tycoon\"](https://en.wikipedia.org/wiki/Chris_Sawyer's_Locomotion), according to the author. 🤯\n",
    "\n",
    "Back to the **cold-start problem**, now."
   ]
  },
  {
   "cell_type": "markdown",
   "metadata": {},
   "source": [
    "# Cold-start problem\n",
    "\n",
    "Cold-start means that **there is a minimum critical mass of user and items connected through ratings that are required** for collaborative filtering to work.\n",
    "\n",
    "Intuitively, this makes much sense.\n",
    "\n",
    "**The more ratings, the better and more complete the similarities** and **the more accurate the predictions**, mainly when many users are rating many items, i.e., a big community.\n",
    "\n",
    "Also, even in the significant communities, **new users always face the cold-start problem**, as either:\n",
    "* There is not enough information to identify similar users, because the neighborhood $N(u)$ is inexistent at first and then small\n",
    "* There are not enough ratings from the user to compute predictions based on item similarities.\n",
    "\n",
    "The same applies to **new items**.\n",
    "\n",
    "Hence, the need for techniques that are more robust to this problem, if we want to have (1) **more complete** and (2) **better predictions**."
   ]
  }
 ],
 "metadata": {
  "kernelspec": {
   "display_name": "Python 3",
   "language": "python",
   "name": "python3"
  },
  "language_info": {
   "codemirror_mode": {
    "name": "ipython",
    "version": 3
   },
   "file_extension": ".py",
   "mimetype": "text/x-python",
   "name": "python",
   "nbconvert_exporter": "python",
   "pygments_lexer": "ipython3",
   "version": "3.7.3"
  }
 },
 "nbformat": 4,
 "nbformat_minor": 2
}
